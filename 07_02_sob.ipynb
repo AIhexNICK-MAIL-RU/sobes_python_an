{
  "nbformat": 4,
  "nbformat_minor": 0,
  "metadata": {
    "colab": {
      "provenance": []
    },
    "kernelspec": {
      "name": "python3",
      "display_name": "Python 3"
    },
    "language_info": {
      "name": "python"
    }
  },
  "cells": [
    {
      "cell_type": "code",
      "execution_count": null,
      "metadata": {
        "id": "z7N8-qZnaMJS"
      },
      "outputs": [],
      "source": [
        "x = [8,8,0,0,1,2,3,4,5,6,7]\n",
        "# 8 (800) 123-45-67"
      ]
    },
    {
      "cell_type": "code",
      "source": [
        "def str_num(x):\n",
        "    pass\n",
        "\n",
        "print(str_num(x))"
      ],
      "metadata": {
        "id": "gA0jDGJoaPHA",
        "colab": {
          "base_uri": "https://localhost:8080/"
        },
        "outputId": "5d7c465c-b255-45b4-b2b6-258ebf6e1a0e"
      },
      "execution_count": null,
      "outputs": [
        {
          "output_type": "stream",
          "name": "stdout",
          "text": [
            "None\n"
          ]
        }
      ]
    },
    {
      "cell_type": "code",
      "source": [
        "# 0 -> 0\n",
        "# 5 -> 5\n",
        "# 13 -> 4\n",
        "# 642 -> 12 -> 3\n",
        "# 6291 -> 18 -> 9"
      ],
      "metadata": {
        "id": "pUg1bhRJjlEx"
      },
      "execution_count": null,
      "outputs": []
    },
    {
      "cell_type": "code",
      "source": [
        "def x_num(n):\n",
        "  pass\n",
        "\n",
        "  \n",
        "print(x_num(0))\n",
        "print(x_num(5))\n",
        "print(x_num(13))\n",
        "print(x_num(642))\n",
        "print(x_num(6291))"
      ],
      "metadata": {
        "id": "T5IPH-kFjlU5"
      },
      "execution_count": null,
      "outputs": []
    },
    {
      "cell_type": "code",
      "source": [],
      "metadata": {
        "id": "fOAPD7XmoI78"
      },
      "execution_count": null,
      "outputs": []
    },
    {
      "cell_type": "code",
      "source": [],
      "metadata": {
        "id": "xsMUKnP0oJFb"
      },
      "execution_count": null,
      "outputs": []
    },
    {
      "cell_type": "code",
      "source": [
        "import pandas as pd\n",
        "data = {'inn_firm': ['5027207379', '0543037606', '7017304634', '7708307232','3120099967'],\n",
        "        'okved_firm': ['20.23', '21.24','22.25', '23.26','24.27']}\n",
        "\n",
        "df = pd.DataFrame(data)\n",
        "\n",
        "print(df)\n",
        "\n",
        "df['inn_firm'] = df['inn_firm'].astype(int)\n",
        "\n",
        "data = {'inn_firm': ['5027207379', '0543037606', '7017304634', '7708307232','3120099967'],\n",
        "        'name_firm': ['ООО \"ВЫМПЕЛ\"','МБОУ \"СРЕДНЯЯ ШКОЛА #2\"', 'ООО \"Сибирская проектная компания\"', 'ООО \"ИН ТРАНС-ТУР\"','ООО \"АЛЛНЕКС БЕЛГОРОД\"']}\n",
        "  \n",
        "\n",
        "df1 = pd.DataFrame(data)\n",
        "\n",
        "print(df1)"
      ],
      "metadata": {
        "id": "tTM_hArYoE6y"
      },
      "execution_count": null,
      "outputs": []
    },
    {
      "cell_type": "markdown",
      "source": [
        "|index|inn\\_firm|okved\\_firm|name\\_firm|\n",
        "|---|---|---|---|\n",
        "|0|5027207379|20\\.23|ООО \"ВЫМПЕЛ\"|\n",
        "|1|0543037606|21\\.24|МБОУ \"СРЕДНЯЯ ШКОЛА \\#2\"|\n",
        "|2|7017304634|22\\.25|ООО \"Сибирская проектная компания\"|\n",
        "|3|7708307232|23\\.26|ООО \"ИН ТРАНС-ТУР\"|\n",
        "|4|3120099967|24\\.27|ООО \"АЛЛНЕКС БЕЛГОРОД\"|"
      ],
      "metadata": {
        "id": "SfMdSvXZpWvB"
      }
    }
  ]
}